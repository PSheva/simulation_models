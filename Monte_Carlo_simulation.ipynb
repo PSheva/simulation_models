{
  "cells": [
    {
      "cell_type": "code",
      "execution_count": 2,
      "metadata": {
        "id": "rZU9aHCla023"
      },
      "outputs": [],
      "source": [
        "import math\n",
        "import random\n",
        "import pandas as pd\n",
        "import numpy as np\n",
        "from scipy import stats\n",
        "from scipy.integrate import quad\n"
      ]
    },
    {
      "cell_type": "markdown",
      "metadata": {},
      "source": [
        "Task 1"
      ]
    },
    {
      "cell_type": "code",
      "execution_count": 3,
      "metadata": {
        "id": "9HCQec7rEcik"
      },
      "outputs": [],
      "source": [
        "# Функція для визначення рандомних координат для точок\n",
        "def get_random_coords(lower_bound,upper_bound):\n",
        "  return random.uniform(lower_bound,upper_bound)"
      ]
    },
    {
      "cell_type": "code",
      "execution_count": 4,
      "metadata": {
        "id": "ZK1evFWMFhEi"
      },
      "outputs": [],
      "source": [
        "def calculation(radius:float, exp_count:list, dots_numb:list):\n",
        "  df = pd.DataFrame(index=exp_count, columns = dots_numb)\n",
        "  #print(df)\n",
        "\n",
        "# Зробимо велику таблицю де проведемо одразу усі досліди\n",
        "  for index in exp_count:\n",
        "    for test in dots_numb:\n",
        "      dots_in_area = 0\n",
        "      for i in range(1,test):\n",
        "\n",
        "        x,y = get_random_coords(-radius, radius), get_random_coords(-radius, radius)\n",
        "        # перевірка чи входить в коло точка\n",
        "        in_area = pow(x,2) + pow(y,2) <= pow(radius,2)\n",
        "        \n",
        "        # За умови входження додаємо точку\n",
        "        if in_area:\n",
        "          dots_in_area += 1\n",
        "          # if i == test-1:\n",
        "      # Обраховуємо відношення точок в колі до всіх та обраховуємо приблизну площу\n",
        "      aprx_area = round(pow(2*radius,2) * (dots_in_area/test),  2)\n",
        "      df.at[index,test] = aprx_area\n",
        "\n",
        "\n",
        "  df = df.apply(pd.to_numeric)\n",
        "  \n",
        "  mean_value = round(df.mean(),2)\n",
        "  dispersion = round(df.var(),2)\n",
        "  real_value = round(math.pi * pow(radius,2), 2)\n",
        "\n",
        "  df.loc['Mean'] = mean_value\n",
        "  df.loc['Dispersion'] = dispersion\n",
        "  \n",
        "  return df, mean_value, dispersion, real_value"
      ]
    },
    {
      "cell_type": "code",
      "execution_count": 5,
      "metadata": {},
      "outputs": [],
      "source": [
        "# Визначаємо наші рядки та стовпці. Номер експерименту та кількість точок\n",
        "exp_count = range(1,11)\n",
        "dots_numb = [100,200,500,1000,2000,5000,10000,20000]"
      ]
    },
    {
      "cell_type": "code",
      "execution_count": 6,
      "metadata": {
        "colab": {
          "base_uri": "https://localhost:8080/"
        },
        "id": "zsHLWqf2GEt9",
        "outputId": "ebc2989e-e267-4352-a43e-d6d819a8b253"
      },
      "outputs": [],
      "source": [
        "# Калькуляція\n",
        "df1 = calculation(5, exp_count,dots_numb)"
      ]
    },
    {
      "cell_type": "code",
      "execution_count": 7,
      "metadata": {},
      "outputs": [
        {
          "name": "stdout",
          "output_type": "stream",
          "text": [
            "Area evaluation by Monte-Carlo trails numbers \n",
            "             100    200    500    1000   2000   5000   10000  20000\n",
            "1           80.00  80.50  76.60   79.3  77.90  78.96  79.90  79.03\n",
            "2           79.00  82.00  79.20   78.1  77.25  78.20  78.45  78.08\n",
            "3           79.00  77.50  79.60   77.2  78.75  78.74  78.73  78.72\n",
            "4           75.00  76.00  75.00   78.9  77.40  79.78  78.80  78.56\n",
            "5           77.00  80.50  76.40   77.8  77.35  78.44  78.42  78.38\n",
            "6           80.00  82.00  76.00   76.9  77.25  78.80  78.44  78.46\n",
            "7           85.00  76.00  77.40   78.3  78.95  78.74  78.20  78.72\n",
            "8           88.00  79.50  77.80   80.1  77.15  78.38  78.63  78.64\n",
            "9           85.00  77.00  78.00   78.1  79.10  79.36  78.47  78.28\n",
            "10          81.00  79.00  74.80   80.3  79.90  79.02  79.54  78.70\n",
            "Mean        80.90  79.00  77.08   78.5  78.10  78.84  78.76  78.56\n",
            "Dispersion  15.88   5.22   2.63    1.3   0.98   0.22   0.29   0.07 \n",
            "Real Value: 78.54\n"
          ]
        }
      ],
      "source": [
        "print('Area evaluation by Monte-Carlo trails numbers',\n",
        "      '\\n',df1[0],\n",
        "      '\\nReal Value:', df1[-1])"
      ]
    },
    {
      "cell_type": "markdown",
      "metadata": {},
      "source": [
        "Task 1 B"
      ]
    },
    {
      "cell_type": "markdown",
      "metadata": {},
      "source": [
        "Lets take 95%-confidence interval"
      ]
    },
    {
      "cell_type": "code",
      "execution_count": 8,
      "metadata": {},
      "outputs": [
        {
          "name": "stdout",
          "output_type": "stream",
          "text": [
            "Confridence intervals \n",
            " 100      (63.000602872391944, 87.9627304609414)\n",
            "200      (58.87782118477047, 86.82551214856288)\n",
            "500      (56.80834401948242, 84.94332264718425)\n",
            "1000     (57.49788028999892, 86.63545304333438)\n",
            "2000     (57.12344154537648, 86.22322512129018)\n",
            "5000      (57.4661374475057, 87.11386255249431)\n",
            "10000     (57.4234287276926, 87.01490460564071)\n",
            "20000     (57.21993730873874, 86.8133960245946)\n",
            "dtype: object\n"
          ]
        }
      ],
      "source": [
        "conf_level = 0.95\n",
        "\n",
        "conf_intervals = pd.Series()\n",
        "for dots_numb in df1[0].columns:\n",
        "    # Обраховуємо параметри для обчислення\n",
        "    sem = stats.sem(df1[0][dots_numb])\n",
        "    mean = df1[0][dots_numb].mean()\n",
        "    \n",
        "    # Обраховуємо довірчі інтервали\n",
        "    conf_interval = stats.t.interval(conf_level, len(df1[0][dots_numb][:len(exp_count)] )-1, loc=mean, scale=sem)\n",
        "    conf_intervals[dots_numb] = conf_interval\n",
        "    \n",
        "    # print(dots_numb)\n",
        "    # print(conf_interval)\n",
        "print('Confridence intervals',\n",
        "      '\\n',conf_intervals)"
      ]
    },
    {
      "cell_type": "markdown",
      "metadata": {},
      "source": [
        "Task 2\n"
      ]
    },
    {
      "cell_type": "code",
      "execution_count": 104,
      "metadata": {},
      "outputs": [
        {
          "name": "stdout",
          "output_type": "stream",
          "text": [
            "             100  200   500  1000  2000  5000  10000  20000\n",
            "1           0.64 0.65  0.50  0.28  0.58  0.37   0.46   0.49\n",
            "2           0.59 0.36  0.69  0.29  0.51  0.50   0.36   0.38\n",
            "3           0.25 0.24 -0.00  0.52  0.37  0.54   0.47   0.41\n",
            "4           1.10 0.75  0.11  0.58  0.39  0.30   0.38   0.43\n",
            "5           0.73 0.48  0.49  0.58  0.37  0.42   0.46   0.36\n",
            "6          -0.03 0.53  0.39  0.38  0.28  0.46   0.35   0.39\n",
            "7           0.70 0.53  0.29  0.55  0.49  0.35   0.46   0.41\n",
            "8           0.46 0.57  0.16  0.53  0.38  0.57   0.37   0.44\n",
            "9           0.30 0.62 -0.04  0.52  0.48  0.36   0.47   0.38\n",
            "10          0.67 0.42  0.37  0.51  0.49  0.40   0.37   0.43\n",
            "Mean        0.54 0.52  0.30  0.47  0.44  0.43   0.41   0.41\n",
            "Dispersion  0.09 0.02  0.05  0.01  0.01  0.01   0.00   0.00\n"
          ]
        }
      ],
      "source": [
        "pd.set_option('display.float_format', '{:.2f}'.format)\n",
        "\n",
        "def integrand(x):\n",
        "    numerator = -2 * x**3 + 5 * x + 11\n",
        "    denominator = 2 * x**5 - 12 * x + 18\n",
        "\n",
        "    # Check for invalid or zero values before calculation\n",
        "    if numerator != 0 and denominator != 0:\n",
        "        return np.cbrt(np.double(numerator)) / np.cbrt(np.double(denominator))\n",
        "    else:\n",
        "        return np.nan  # Ignore invalid values\n",
        "\n",
        "\n",
        "# Межі інтегрування\n",
        "a = 0\n",
        "b = 7\n",
        "# Створення списку кількості випадкових точок для експериментів\n",
        "dots_numb = [100, 200, 500, 1000, 2000, 5000, 10000, 20000]\n",
        "\n",
        "# Кількість експериментів\n",
        "num_experiments = 10\n",
        "\n",
        "# Створення DataFrame для збереження результатів\n",
        "df2 = pd.DataFrame(index=range(1, num_experiments + 1))\n",
        "\n",
        "# Проведення експериментів\n",
        "for n in dots_numb:\n",
        "    integral_estimates = []\n",
        "    # points_inside_integral = []  # Відношення точок в інтегралі до всіх точок\n",
        "    for _ in range(num_experiments):\n",
        "        # Генерування випадкових значень x в межах інтегрування\n",
        "        random_x = np.random.uniform(a, b, n)\n",
        "\n",
        "        # Обчислення значень інтегранда для випадкових x з перевіркою на недійсність\n",
        "        integrand_values = [integrand(x) for x in random_x if not np.isnan(integrand(x))]\n",
        "\n",
        "        # Обчислення оцінки інтегралу\n",
        "        if integrand_values:\n",
        "            integral_estimate = np.mean(integrand_values) * (b - a)\n",
        "            integral_estimates.append(integral_estimate)            \n",
        "                  \n",
        "\n",
        "    # Збереження результатів в DataFrame\n",
        "    df2[f'{n}'] = integral_estimates\n",
        "\n",
        "\n",
        "# Обчислення середнього та дисперсії для кожного експерименту\n",
        "df2.loc['Mean'] = df2.mean()\n",
        "df2.loc['Dispersion'] = df2.var()\n",
        "\n",
        "# Виведення результатів\n",
        "print(df2)\n",
        "# print(sorted(integrand_values))\n"
      ]
    },
    {
      "cell_type": "code",
      "execution_count": 101,
      "metadata": {},
      "outputs": [
        {
          "name": "stdout",
          "output_type": "stream",
          "text": [
            "The integral is: 0.4188381942\n",
            "The absolute error is: 1.2780017950475663e-08\n"
          ]
        }
      ],
      "source": [
        "from scipy.integrate import quad\n",
        "\n",
        "def f(x):\n",
        "    numerator = -2 * x**3 + 5 * x + 11\n",
        "    denominator = 2 * x**5 - 12 * x + 18\n",
        "\n",
        "    # Check for invalid or zero values before calculation\n",
        "    if numerator != 0 and denominator != 0:\n",
        "        return np.cbrt(np.double(numerator)) / np.cbrt(np.double(denominator))\n",
        "\n",
        "integral, error = quad(f, 0, 7)\n",
        "print(\"The integral is:\", integral)\n",
        "print(\"The absolute error is:\", error)"
      ]
    },
    {
      "cell_type": "markdown",
      "metadata": {},
      "source": [
        "Task 3"
      ]
    },
    {
      "cell_type": "code",
      "execution_count": 114,
      "metadata": {},
      "outputs": [
        {
          "name": "stdout",
          "output_type": "stream",
          "text": [
            "The integral estimate is:                        100            200            500           1000  \\\n",
            "1                968299.82      877726.47     1417120.05     1170791.31   \n",
            "2               1699187.62      970720.13     1312434.41     1280175.71   \n",
            "3                813143.70     1780317.62     1357925.88     1316164.33   \n",
            "4               1239840.79     1045523.71     1448800.54     1180606.91   \n",
            "5               1281097.13     1152722.19     1420949.04      942097.21   \n",
            "6               1526104.50     1164901.10     1488589.82     1347337.51   \n",
            "7               1658588.20     1543772.66     1088614.39     1378514.92   \n",
            "8               1240839.59     1691297.90     1141453.46     1386621.47   \n",
            "9                718482.19     1171205.79     1530733.03     1274281.02   \n",
            "10              2240857.67     1501511.34     1415208.91     1139234.03   \n",
            "Mean            1338644.12     1289969.89     1362182.95     1241582.44   \n",
            "Dispersion 190203241353.93 89087372552.45 18722802940.53 16798805683.56   \n",
            "\n",
            "                    2000          5000         10000        20000  \n",
            "1             1207635.64    1311491.19    1276029.94   1292313.96  \n",
            "2             1253756.49    1328635.19    1258252.41   1252578.99  \n",
            "3             1487923.86    1309873.24    1278021.05   1310844.75  \n",
            "4             1270054.92    1302217.52    1246910.73   1271906.55  \n",
            "5             1301912.84    1242027.84    1235054.92   1239362.00  \n",
            "6             1327689.16    1209155.34    1325113.36   1261161.81  \n",
            "7             1218599.72    1310016.39    1298251.52   1290454.47  \n",
            "8             1237115.73    1401631.28    1267583.35   1301363.68  \n",
            "9             1283068.62    1255707.87    1205752.78   1350758.43  \n",
            "10            1215137.42    1301098.99    1291690.00   1263516.42  \n",
            "Mean          1280289.44    1297185.49    1268266.01   1283426.11  \n",
            "Dispersion 6183577491.10 2498097451.07 1040254112.64 965355684.36  \n"
          ]
        }
      ],
      "source": [
        "import numpy as np\n",
        "\n",
        "# Define the function to integrate\n",
        "def f(x1, x2):\n",
        "    return 3 * (x1**4) * (x2**5)\n",
        "\n",
        "# Define the limits of integration\n",
        "x1_bounds = (0, 5)\n",
        "x2_bounds = (0, 4)\n",
        "\n",
        "# Number of random points\n",
        "df3 = pd.DataFrame(index=range(1,num_experiments+1))\n",
        "\n",
        "for n in dots_numb:\n",
        "    dintegral_estimates=[]\n",
        "    for _ in range(num_experiments):\n",
        "\n",
        "        # Генерування випадкових значень x в межах інтегрування\n",
        "        random_x1 = np.random.uniform(*x1_bounds,n)\n",
        "        random_x2 = np.random.uniform(*x2_bounds,n)\n",
        "\n",
        "        # Обчислення значень інтегранда для випадкових x з перевіркою на недійсність\n",
        "        dintegral_values = [f(x1,x2) for x1,x2 in zip(random_x1, random_x2) ]\n",
        "\n",
        "        # Обчислення оцінки інтегралу\n",
        "        if dintegral_values:\n",
        "            dintegral_estimate = (x1_bounds[1]-x1_bounds[0])*(x2_bounds[1]-x2_bounds[0])*np.mean(dintegral_values)\n",
        "            dintegral_estimates.append(dintegral_estimate)\n",
        "        \n",
        "    df3[f'{n}'] = dintegral_estimates\n",
        "\n",
        "df3.loc['Mean'] = df3.mean()\n",
        "df3.loc['Dispersion'] = df3.var()\n",
        "\n",
        "print(\"The integral estimate is:\", round(df3,2))"
      ]
    },
    {
      "cell_type": "code",
      "execution_count": 102,
      "metadata": {},
      "outputs": [
        {
          "name": "stdout",
          "output_type": "stream",
          "text": [
            "The integral is: 1280000.0\n",
            "The absolute error is: 2.108585212300323e-08\n"
          ]
        }
      ],
      "source": [
        "from scipy.integrate import dblquad\n",
        "\n",
        "# Define the function to integrate\n",
        "def f(x1, x2):\n",
        "    return 3 * (x1**4) * (x2**5)\n",
        "\n",
        "# Define the limits of integration\n",
        "x1_bounds = (0, 4)\n",
        "x2_bounds = (0, 5)\n",
        "\n",
        "# Compute the double integral\n",
        "integral, error = dblquad(f, *x1_bounds, lambda x: x2_bounds[0], lambda x: x2_bounds[1])\n",
        "\n",
        "print(\"The integral is:\", round(integral,2))\n",
        "print(\"The absolute error is:\", error)"
      ]
    }
  ],
  "metadata": {
    "colab": {
      "provenance": []
    },
    "kernelspec": {
      "display_name": "Python 3",
      "name": "python3"
    },
    "language_info": {
      "codemirror_mode": {
        "name": "ipython",
        "version": 3
      },
      "file_extension": ".py",
      "mimetype": "text/x-python",
      "name": "python",
      "nbconvert_exporter": "python",
      "pygments_lexer": "ipython3",
      "version": "3.11.2"
    }
  },
  "nbformat": 4,
  "nbformat_minor": 0
}
